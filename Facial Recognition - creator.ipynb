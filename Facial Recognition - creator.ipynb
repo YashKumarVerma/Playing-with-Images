{
 "cells": [
  {
   "cell_type": "code",
   "execution_count": 14,
   "metadata": {},
   "outputs": [],
   "source": [
    "import cv2\n",
    "import numpy as np\n",
    "import matplotlib.pyplot as plt\n"
   ]
  },
  {
   "cell_type": "code",
   "execution_count": 16,
   "metadata": {},
   "outputs": [
    {
     "name": "stdout",
     "output_type": "stream",
     "text": [
      "Enter the name person name getting clickedarharva\n",
      "Clicked Pics  1\n",
      "Clicked Pics  2\n",
      "Clicked Pics  3\n",
      "Clicked Pics  4\n",
      "Clicked Pics  5\n",
      "Clicked Pics  6\n",
      "Clicked Pics  7\n",
      "Clicked Pics  8\n",
      "Clicked Pics  9\n",
      "Clicked Pics  10\n",
      "Clicked Pics  11\n",
      "Clicked Pics  12\n",
      "Clicked Pics  13\n",
      "Clicked Pics  14\n",
      "Clicked Pics  15\n",
      "Clicked Pics  16\n",
      "Clicked Pics  17\n",
      "Clicked Pics  18\n",
      "Clicked Pics  19\n",
      "Clicked Pics  20\n"
     ]
    }
   ],
   "source": [
    "detector = cv2.CascadeClassifier(\"Datasets/FaceCascade/templatedata.xml\")\n",
    "camera = cv2.VideoCapture(0)\n",
    "\n",
    "name = input(\"Enter the name person name getting clicked\")\n",
    "pics_clicked = 0\n",
    "cnt = 0\n",
    "pics = []\n",
    "\n",
    "\n",
    "while True:\n",
    "    b,img = camera.read()\n",
    "    if b==False:\n",
    "        continue\n",
    "    \n",
    "    # after every round of checks, scale 1.5 times\n",
    "    faces = detector.detectMultiScale(img, 1.5)\n",
    "\n",
    "    if(len(faces)==0):\n",
    "        continue\n",
    "        \n",
    "    #     assuming single face\n",
    "    f = faces[0]\n",
    "    x,y,w,h = f\n",
    "    green = (0,255,0)\n",
    "    cv2.rectangle(img, (x,y), (x+w,y+h), green, 5 )\n",
    "    #-------------------------------------------\n",
    "    #save the cropped photo\n",
    "    if cnt%10==0:\n",
    "        \n",
    "        crop_face = img[y:y+h,x:x+w]\n",
    "        small_face = cv2.resize(crop_face,(100,100))\n",
    "        pics.append(small_face)\n",
    "        pics_clicked += 1\n",
    "        print(\"Clicked Pics \", pics_clicked)\n",
    "        if pics_clicked == 20:\n",
    "            break\n",
    "        \n",
    "    cnt+=1\n",
    "    \n",
    "    #------------------------------------------\n",
    "    cv2.imshow(\"Image\", img)\n",
    "      \n",
    "    #     manage exit\n",
    "    key = cv2.waitKey(1)&0xFF\n",
    "    if key == ord('q'):\n",
    "        break\n",
    "        \n",
    "    cv2.waitKey(1)\n",
    "    \n",
    "camera.release()\n",
    "cv2.destroyAllWindows()"
   ]
  },
  {
   "cell_type": "code",
   "execution_count": 17,
   "metadata": {},
   "outputs": [],
   "source": [
    "np.save(name+\".npy\", pics)"
   ]
  },
  {
   "cell_type": "code",
   "execution_count": 13,
   "metadata": {},
   "outputs": [
    {
     "name": "stdout",
     "output_type": "stream",
     "text": [
      "20\n"
     ]
    }
   ],
   "source": [
    "print(len(pics))"
   ]
  }
 ],
 "metadata": {
  "kernelspec": {
   "display_name": "Python 3",
   "language": "python",
   "name": "python3"
  },
  "language_info": {
   "codemirror_mode": {
    "name": "ipython",
    "version": 3
   },
   "file_extension": ".py",
   "mimetype": "text/x-python",
   "name": "python",
   "nbconvert_exporter": "python",
   "pygments_lexer": "ipython3",
   "version": "3.7.3"
  }
 },
 "nbformat": 4,
 "nbformat_minor": 2
}

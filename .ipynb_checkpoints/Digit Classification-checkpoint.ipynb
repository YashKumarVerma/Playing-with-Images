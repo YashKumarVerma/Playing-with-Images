{
 "cells": [
  {
   "cell_type": "markdown",
   "metadata": {},
   "source": [
    "Digit Classification\n",
    "---"
   ]
  },
  {
   "cell_type": "markdown",
   "metadata": {},
   "source": [
    "`!pip install pandas`"
   ]
  },
  {
   "cell_type": "code",
   "execution_count": 32,
   "metadata": {},
   "outputs": [],
   "source": [
    "import pandas as pd\n",
    "import numpy as np\n",
    "import matplotlib.pyplot as plt"
   ]
  },
  {
   "cell_type": "code",
   "execution_count": 51,
   "metadata": {},
   "outputs": [
    {
     "data": {
      "image/png": "[encoded data removed]",
      "text/plain": [
       "<Figure size 432x288 with 1 Axes>"
      ]
     },
     "metadata": {
      "needs_background": "light"
     },
     "output_type": "display_data"
    },
    {
     "data": {
      "image/png": "[encoded data removed]",
      "text/plain": [
       "<Figure size 432x288 with 1 Axes>"
      ]
     },
     "metadata": {
      "needs_background": "light"
     },
     "output_type": "display_data"
    },
    {
     "data": {
      "image/png": "[encoded data removed]",
      "text/plain": [
       "<Figure size 432x288 with 1 Axes>"
      ]
     },
     "metadata": {
      "needs_background": "light"
     },
     "output_type": "display_data"
    },
    {
     "data": {
      "image/png": "[encoded data removed]",
      "text/plain": [
       "<Figure size 432x288 with 1 Axes>"
      ]
     },
     "metadata": {
      "needs_background": "light"
     },
     "output_type": "display_data"
    },
    {
     "data": {
      "image/png": "[encoded data removed]",
      "text/plain": [
       "<Figure size 432x288 with 1 Axes>"
      ]
     },
     "metadata": {
      "needs_background": "light"
     },
     "output_type": "display_data"
    }
   ],
   "source": [
    "# Read te CSV files for MNIST Data\n",
    "\n",
    "# read the CSV and specify that there are no column names so start parsing from the first line itself.\n",
    "df = pd.read_csv(\"Datasets/MNIST-1/train.csv\", header=None)\n",
    "df.head()\n",
    "\n",
    "\n",
    "df.shape\n",
    "# there are 20000 rows, which means data of 20,000 images with mapping of 784 (28*28) pixels each\n",
    "# the last column (the 785th col) has the digit which the row represents.\n",
    "\n",
    "# converting csv data to numpy array\n",
    "data = df.values\n",
    "\n",
    "X = data[:, : -1]\n",
    "Y = data[:, -1]\n",
    "\n",
    "\n",
    "# visualize the data\n",
    "for i in range(5):\n",
    "    current_row = X[i]\n",
    "    current_row = current_row.reshape(28,28)\n",
    "    plt.imshow(current_row, cmap=\"gray\")\n",
    "    plt.title(Y[i])\n",
    "    plt.axis(\"off\")\n",
    "    plt.show()"
   ]
  },
  {
   "cell_type": "code",
   "execution_count": 49,
   "metadata": {},
   "outputs": [],
   "source": [
    "# function to prepare data\n",
    "def prepareData(file):\n",
    "    \n",
    "    #     load csv file which does not have header\n",
    "    df = pd.read_csv(\"Datasets/MNIST-1/train.csv\", header=None)\n",
    "    \n",
    "    #     load data as numpy array\n",
    "    data = df.values\n",
    "    \n",
    "    #     get separate X and Y values\n",
    "    X = data[:,:-1]\n",
    "    Y = data[:, -1]\n",
    "    return X,Y"
   ]
  },
  {
   "cell_type": "code",
   "execution_count": 57,
   "metadata": {},
   "outputs": [],
   "source": [
    "def dist(p1,p2):\n",
    "    return np.sum((p1-p2)**2)**0.5\n",
    "\n",
    "\n",
    "def KNN(X,Y,test_point, K=5):\n",
    "    d = [] # will store distance \n",
    "    m = X.shape[0] # 100,2 -> total number of points\n",
    "    \n",
    "    #Step1 - find distance of testpoint from all points\n",
    "    for i in range(0,m):\n",
    "        current_dist = dist(test_point, X[i]) # find distance of testpoint from current point\n",
    "        d.append((current_dist,Y[i])) # append distance along with pair into d\n",
    "    \n",
    "    #Step2 - sort all points according to distances\n",
    "    d = sorted(d) # by default based on the first key of tupple\n",
    "    \n",
    "    #Step3 - Pick the first k points\n",
    "    d = d[:K] # pick only the first k elements, can be varied\n",
    "    \n",
    "    #Step4 - Create a numpy array\n",
    "    d = np.array(d) \n",
    "    d = d[:,1] # get all rows, but elements from only first column\n",
    "    \n",
    "    #Step5 - Find out unique classes and counts\n",
    "    uniq, cnts = np.unique(d,return_counts=True) # uniq denotes (0 and 1) and cnts is array of individual instances \n",
    "    idx = np.argmax(cnts) # get the index of maximum element. the cnts variable contains two elements. one is zero and other is one. on the zeroth element, there are instances of one. on one it contains instances of one.\n",
    "    \n",
    "    #Step6 - Find the label with maximum count\n",
    "    pred = uniq[idx] # now pred has 0 or 1 whichever is maximum\n",
    "    \n",
    "    #Step7 - Map and send data \n",
    "    return int(pred) # replace 0 or 1 with respective mapping\n",
    "\n",
    "# Get Prepared Data for training and testing\n",
    "\n",
    "X,Y = prepareData(\"Datasets/MNIST-1/train.csv\")\n",
    "Xt,Yt = prepareData(\"Datasets/MNIST-1/test.csv\")\n"
   ]
  },
  {
   "cell_type": "code",
   "execution_count": 61,
   "metadata": {},
   "outputs": [
    {
     "name": "stdout",
     "output_type": "stream",
     "text": [
      "[7, 0, 3, 6, 4, 9, 4, 1, 2, 2]\n"
     ]
    }
   ],
   "source": [
    "# will run for 100, and see how many predictions are correct\n",
    "\n",
    "preds = []\n",
    "for i in range(10):\n",
    "    p = KNN(X,Y,Xt[i])\n",
    "    preds.append(p)\n",
    "    \n",
    "print(preds)"
   ]
  },
  {
   "cell_type": "code",
   "execution_count": 65,
   "metadata": {},
   "outputs": [
    {
     "name": "stderr",
     "output_type": "stream",
     "text": [
      "C:\\Anaconda\\lib\\site-packages\\ipykernel_launcher.py:1: DeprecationWarning: elementwise comparison failed; this will raise an error in the future.\n",
      "  \"\"\"Entry point for launching an IPython kernel.\n"
     ]
    }
   ],
   "source": [
    "acc = np.sum((preds==Yt[:50]))"
   ]
  },
  {
   "cell_type": "code",
   "execution_count": null,
   "metadata": {},
   "outputs": [],
   "source": []
  }
 ],
 "metadata": {
  "kernelspec": {
   "display_name": "Python 3",
   "language": "python",
   "name": "python3"
  },
  "language_info": {
   "codemirror_mode": {
    "name": "ipython",
    "version": 3
   },
   "file_extension": ".py",
   "mimetype": "text/x-python",
   "name": "python",
   "nbconvert_exporter": "python",
   "pygments_lexer": "ipython3",
   "version": "3.7.3"
  }
 },
 "nbformat": 4,
 "nbformat_minor": 2
}

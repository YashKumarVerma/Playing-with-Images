{
 "cells": [
  {
   "cell_type": "markdown",
   "metadata": {},
   "source": [
    "Classification Problem\n",
    "---"
   ]
  },
  {
   "cell_type": "code",
   "execution_count": 8,
   "metadata": {},
   "outputs": [],
   "source": [
    "import numpy as np\n",
    "import matplotlib.pyplot as plt"
   ]
  },
  {
   "cell_type": "code",
   "execution_count": 95,
   "metadata": {},
   "outputs": [
    {
     "data": {
      "image/png": "[encoded data removed]",
      "text/plain": [
       "<Figure size 432x288 with 1 Axes>"
      ]
     },
     "metadata": {
      "needs_background": "light"
     },
     "output_type": "display_data"
    }
   ],
   "source": [
    "# start by loading a data\n",
    "\n",
    "x = np.load(\"Datasets/Data/X.npy\")\n",
    "y = np.load(\"Datasets/Data/Y.npy\")\n",
    "\n",
    "_x = x[:,0]\n",
    "_y = x[:,1]\n",
    "\n",
    "\n",
    "# method to color using loop\n",
    "for i in range(0,100):\n",
    "    if y[i] == 0:\n",
    "        _color = 'red'\n",
    "    else:\n",
    "        _color = 'green'\n",
    "#     plt.scatter(_x[i],_y[i],color=_color )\n",
    "# plt.show()\n",
    "\n",
    "\n",
    "test_point = np.array([10,1])\n",
    "# directly color according to data\n",
    "plt.scatter(x[:,0],x[:,1],c=y, cmap=plt.cm.autumn_r)\n",
    "plt.scatter(test_point[0],test_point[1], color=\"black\")\n",
    "plt.show()\n",
    "\n",
    "# more about markers here : https://matplotlib.org/3.1.1/api/markers_api.html#module-matplotlib.markers"
   ]
  },
  {
   "cell_type": "code",
   "execution_count": 97,
   "metadata": {},
   "outputs": [
    {
     "data": {
      "text/plain": [
       "'yellow'"
      ]
     },
     "execution_count": 97,
     "metadata": {},
     "output_type": "execute_result"
    }
   ],
   "source": [
    "# mapping for classification\n",
    "mapping = {\n",
    "    0:\"yellow\",\n",
    "    1:\"red\"\n",
    "}\n",
    "\n",
    "# function to calculate distance between two given points p1 and p2\n",
    "def dist(p1,p2):\n",
    "    return np.sum((p1-p2)**2)**0.5\n",
    "\n",
    "\n",
    "# the classifier function\n",
    "def KNN(X,Y,test_point, K=5):\n",
    "    d = [] # will store distance \n",
    "    m = X.shape[0] # 100,2 -> total number of points\n",
    "    \n",
    "    #Step1 - find distance of testpoint from all points\n",
    "    for i in range(0,m):\n",
    "        current_dist = dist(test_point, X[i]) # find distance of testpoint from current point\n",
    "        d.append((current_dist,Y[i])) # append distance along with pair into d\n",
    "    \n",
    "    #Step2 - sort all points according to distances\n",
    "    d = sorted(d) # by default based on the first key of tupple\n",
    "    \n",
    "    #Step3 - Pick the first k points\n",
    "    d = d[:K] # pick only the first k elements, can be varied\n",
    "    \n",
    "    #Step4 - Create a numpy array\n",
    "    d = np.array(d) \n",
    "    d = d[:,1] # get all rows, but elements from only first column\n",
    "    \n",
    "    #Step5 - Find out unique classes and counts\n",
    "    uniq, cnts = np.unique(d,return_counts=True) # uniq denotes (0 and 1) and cnts is array of individual instances \n",
    "    idx = np.argmax(cnts) # get the index of maximum element. the cnts variable contains two elements. one is zero and other is one. on the zeroth element, there are instances of one. on one it contains instances of one.\n",
    "    \n",
    "    #Step6 - Find the label with maximum count\n",
    "    pred = uniq[idx] # now pred has 0 or 1 whichever is maximum\n",
    "    \n",
    "    #Step7 - Map and send data \n",
    "    return mapping[int(pred)] # replace 0 or 1 with respective mapping\n",
    "\n",
    "\n",
    "#  last parameter will check the number of neighbours to compare\n",
    "KNN(x,y,test_point,50)"
   ]
  },
  {
   "cell_type": "code",
   "execution_count": null,
   "metadata": {},
   "outputs": [],
   "source": []
  }
 ],
 "metadata": {
  "kernelspec": {
   "display_name": "Python 3",
   "language": "python",
   "name": "python3"
  },
  "language_info": {
   "codemirror_mode": {
    "name": "ipython",
    "version": 3
   },
   "file_extension": ".py",
   "mimetype": "text/x-python",
   "name": "python",
   "nbconvert_exporter": "python",
   "pygments_lexer": "ipython3",
   "version": "3.7.3"
  }
 },
 "nbformat": 4,
 "nbformat_minor": 2
}
